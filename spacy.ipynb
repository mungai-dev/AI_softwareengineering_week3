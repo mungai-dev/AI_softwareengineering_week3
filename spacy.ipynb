{
  "nbformat": 4,
  "nbformat_minor": 0,
  "metadata": {
    "colab": {
      "provenance": []
    },
    "kernelspec": {
      "name": "python3",
      "display_name": "Python 3"
    },
    "language_info": {
      "name": "python"
    }
  },
  "cells": [
    {
      "cell_type": "code",
      "execution_count": 1,
      "metadata": {
        "colab": {
          "base_uri": "https://localhost:8080/"
        },
        "id": "iwSMUmNgIWwx",
        "outputId": "05243de0-1159-43f6-a2c1-f17820b582b3"
      },
      "outputs": [
        {
          "output_type": "stream",
          "name": "stdout",
          "text": [
            "Samsung Galaxy ORG\n",
            "Positive Review\n"
          ]
        }
      ],
      "source": [
        "import spacy\n",
        "nlp = spacy.load(\"en_core_web_sm\")\n",
        "\n",
        "text = \"I love my new Samsung Galaxy phone! The camera is amazing.\"\n",
        "doc = nlp(text)\n",
        "\n",
        "for ent in doc.ents:\n",
        "    print(ent.text, ent.label_)\n",
        "\n",
        "if \"love\" in text or \"great\" in text:\n",
        "    print(\"Positive Review\")\n",
        "elif \"bad\" in text or \"poor\" in text:\n",
        "    print(\"Negative Review\")\n",
        "else:\n",
        "    print(\"Neutral Review\")\n"
      ]
    }
  ]
}